{
 "cells": [
  {
   "cell_type": "markdown",
   "metadata": {},
   "source": [
    "# Medical Insurance Cost Prediction Model"
   ]
  },
  {
   "cell_type": "markdown",
   "metadata": {},
   "source": [
    "## Import Necessary Libraries"
   ]
  },
  {
   "cell_type": "code",
   "execution_count": 1,
   "metadata": {
    "execution": {
     "iopub.execute_input": "2022-08-05T04:02:39.42341Z",
     "iopub.status.busy": "2022-08-05T04:02:39.422983Z",
     "iopub.status.idle": "2022-08-05T04:02:40.159298Z",
     "shell.execute_reply": "2022-08-05T04:02:40.157837Z",
     "shell.execute_reply.started": "2022-08-05T04:02:39.423377Z"
    }
   },
   "outputs": [],
   "source": [
    "import numpy as np\n",
    "import pandas as pd\n",
    "import matplotlib.pyplot as plt\n",
    "import seaborn as sns\n",
    "%matplotlib inline\n",
    "import warnings\n",
    "warnings.filterwarnings('ignore')"
   ]
  },
  {
   "cell_type": "markdown",
   "metadata": {},
   "source": [
    "## Import Dataset"
   ]
  },
  {
   "cell_type": "code",
   "execution_count": 2,
   "metadata": {
    "execution": {
     "iopub.execute_input": "2022-08-05T04:02:45.200545Z",
     "iopub.status.busy": "2022-08-05T04:02:45.199061Z",
     "iopub.status.idle": "2022-08-05T04:02:45.21357Z",
     "shell.execute_reply": "2022-08-05T04:02:45.212423Z",
     "shell.execute_reply.started": "2022-08-05T04:02:45.200481Z"
    }
   },
   "outputs": [
    {
     "ename": "FileNotFoundError",
     "evalue": "[Errno 2] No such file or directory: 'insurance.csv'",
     "output_type": "error",
     "traceback": [
      "\u001b[1;31m---------------------------------------------------------------------------\u001b[0m",
      "\u001b[1;31mFileNotFoundError\u001b[0m                         Traceback (most recent call last)",
      "Input \u001b[1;32mIn [2]\u001b[0m, in \u001b[0;36m<cell line: 1>\u001b[1;34m()\u001b[0m\n\u001b[1;32m----> 1\u001b[0m data \u001b[38;5;241m=\u001b[39m \u001b[43mpd\u001b[49m\u001b[38;5;241;43m.\u001b[39;49m\u001b[43mread_csv\u001b[49m\u001b[43m(\u001b[49m\u001b[38;5;124;43m'\u001b[39;49m\u001b[38;5;124;43minsurance.csv\u001b[39;49m\u001b[38;5;124;43m'\u001b[39;49m\u001b[43m)\u001b[49m\n",
      "File \u001b[1;32m~\\anaconda3\\lib\\site-packages\\pandas\\util\\_decorators.py:311\u001b[0m, in \u001b[0;36mdeprecate_nonkeyword_arguments.<locals>.decorate.<locals>.wrapper\u001b[1;34m(*args, **kwargs)\u001b[0m\n\u001b[0;32m    305\u001b[0m \u001b[38;5;28;01mif\u001b[39;00m \u001b[38;5;28mlen\u001b[39m(args) \u001b[38;5;241m>\u001b[39m num_allow_args:\n\u001b[0;32m    306\u001b[0m     warnings\u001b[38;5;241m.\u001b[39mwarn(\n\u001b[0;32m    307\u001b[0m         msg\u001b[38;5;241m.\u001b[39mformat(arguments\u001b[38;5;241m=\u001b[39marguments),\n\u001b[0;32m    308\u001b[0m         \u001b[38;5;167;01mFutureWarning\u001b[39;00m,\n\u001b[0;32m    309\u001b[0m         stacklevel\u001b[38;5;241m=\u001b[39mstacklevel,\n\u001b[0;32m    310\u001b[0m     )\n\u001b[1;32m--> 311\u001b[0m \u001b[38;5;28;01mreturn\u001b[39;00m func(\u001b[38;5;241m*\u001b[39margs, \u001b[38;5;241m*\u001b[39m\u001b[38;5;241m*\u001b[39mkwargs)\n",
      "File \u001b[1;32m~\\anaconda3\\lib\\site-packages\\pandas\\io\\parsers\\readers.py:680\u001b[0m, in \u001b[0;36mread_csv\u001b[1;34m(filepath_or_buffer, sep, delimiter, header, names, index_col, usecols, squeeze, prefix, mangle_dupe_cols, dtype, engine, converters, true_values, false_values, skipinitialspace, skiprows, skipfooter, nrows, na_values, keep_default_na, na_filter, verbose, skip_blank_lines, parse_dates, infer_datetime_format, keep_date_col, date_parser, dayfirst, cache_dates, iterator, chunksize, compression, thousands, decimal, lineterminator, quotechar, quoting, doublequote, escapechar, comment, encoding, encoding_errors, dialect, error_bad_lines, warn_bad_lines, on_bad_lines, delim_whitespace, low_memory, memory_map, float_precision, storage_options)\u001b[0m\n\u001b[0;32m    665\u001b[0m kwds_defaults \u001b[38;5;241m=\u001b[39m _refine_defaults_read(\n\u001b[0;32m    666\u001b[0m     dialect,\n\u001b[0;32m    667\u001b[0m     delimiter,\n\u001b[1;32m   (...)\u001b[0m\n\u001b[0;32m    676\u001b[0m     defaults\u001b[38;5;241m=\u001b[39m{\u001b[38;5;124m\"\u001b[39m\u001b[38;5;124mdelimiter\u001b[39m\u001b[38;5;124m\"\u001b[39m: \u001b[38;5;124m\"\u001b[39m\u001b[38;5;124m,\u001b[39m\u001b[38;5;124m\"\u001b[39m},\n\u001b[0;32m    677\u001b[0m )\n\u001b[0;32m    678\u001b[0m kwds\u001b[38;5;241m.\u001b[39mupdate(kwds_defaults)\n\u001b[1;32m--> 680\u001b[0m \u001b[38;5;28;01mreturn\u001b[39;00m \u001b[43m_read\u001b[49m\u001b[43m(\u001b[49m\u001b[43mfilepath_or_buffer\u001b[49m\u001b[43m,\u001b[49m\u001b[43m \u001b[49m\u001b[43mkwds\u001b[49m\u001b[43m)\u001b[49m\n",
      "File \u001b[1;32m~\\anaconda3\\lib\\site-packages\\pandas\\io\\parsers\\readers.py:575\u001b[0m, in \u001b[0;36m_read\u001b[1;34m(filepath_or_buffer, kwds)\u001b[0m\n\u001b[0;32m    572\u001b[0m _validate_names(kwds\u001b[38;5;241m.\u001b[39mget(\u001b[38;5;124m\"\u001b[39m\u001b[38;5;124mnames\u001b[39m\u001b[38;5;124m\"\u001b[39m, \u001b[38;5;28;01mNone\u001b[39;00m))\n\u001b[0;32m    574\u001b[0m \u001b[38;5;66;03m# Create the parser.\u001b[39;00m\n\u001b[1;32m--> 575\u001b[0m parser \u001b[38;5;241m=\u001b[39m TextFileReader(filepath_or_buffer, \u001b[38;5;241m*\u001b[39m\u001b[38;5;241m*\u001b[39mkwds)\n\u001b[0;32m    577\u001b[0m \u001b[38;5;28;01mif\u001b[39;00m chunksize \u001b[38;5;129;01mor\u001b[39;00m iterator:\n\u001b[0;32m    578\u001b[0m     \u001b[38;5;28;01mreturn\u001b[39;00m parser\n",
      "File \u001b[1;32m~\\anaconda3\\lib\\site-packages\\pandas\\io\\parsers\\readers.py:933\u001b[0m, in \u001b[0;36mTextFileReader.__init__\u001b[1;34m(self, f, engine, **kwds)\u001b[0m\n\u001b[0;32m    930\u001b[0m     \u001b[38;5;28mself\u001b[39m\u001b[38;5;241m.\u001b[39moptions[\u001b[38;5;124m\"\u001b[39m\u001b[38;5;124mhas_index_names\u001b[39m\u001b[38;5;124m\"\u001b[39m] \u001b[38;5;241m=\u001b[39m kwds[\u001b[38;5;124m\"\u001b[39m\u001b[38;5;124mhas_index_names\u001b[39m\u001b[38;5;124m\"\u001b[39m]\n\u001b[0;32m    932\u001b[0m \u001b[38;5;28mself\u001b[39m\u001b[38;5;241m.\u001b[39mhandles: IOHandles \u001b[38;5;241m|\u001b[39m \u001b[38;5;28;01mNone\u001b[39;00m \u001b[38;5;241m=\u001b[39m \u001b[38;5;28;01mNone\u001b[39;00m\n\u001b[1;32m--> 933\u001b[0m \u001b[38;5;28mself\u001b[39m\u001b[38;5;241m.\u001b[39m_engine \u001b[38;5;241m=\u001b[39m \u001b[38;5;28;43mself\u001b[39;49m\u001b[38;5;241;43m.\u001b[39;49m\u001b[43m_make_engine\u001b[49m\u001b[43m(\u001b[49m\u001b[43mf\u001b[49m\u001b[43m,\u001b[49m\u001b[43m \u001b[49m\u001b[38;5;28;43mself\u001b[39;49m\u001b[38;5;241;43m.\u001b[39;49m\u001b[43mengine\u001b[49m\u001b[43m)\u001b[49m\n",
      "File \u001b[1;32m~\\anaconda3\\lib\\site-packages\\pandas\\io\\parsers\\readers.py:1217\u001b[0m, in \u001b[0;36mTextFileReader._make_engine\u001b[1;34m(self, f, engine)\u001b[0m\n\u001b[0;32m   1213\u001b[0m     mode \u001b[38;5;241m=\u001b[39m \u001b[38;5;124m\"\u001b[39m\u001b[38;5;124mrb\u001b[39m\u001b[38;5;124m\"\u001b[39m\n\u001b[0;32m   1214\u001b[0m \u001b[38;5;66;03m# error: No overload variant of \"get_handle\" matches argument types\u001b[39;00m\n\u001b[0;32m   1215\u001b[0m \u001b[38;5;66;03m# \"Union[str, PathLike[str], ReadCsvBuffer[bytes], ReadCsvBuffer[str]]\"\u001b[39;00m\n\u001b[0;32m   1216\u001b[0m \u001b[38;5;66;03m# , \"str\", \"bool\", \"Any\", \"Any\", \"Any\", \"Any\", \"Any\"\u001b[39;00m\n\u001b[1;32m-> 1217\u001b[0m \u001b[38;5;28mself\u001b[39m\u001b[38;5;241m.\u001b[39mhandles \u001b[38;5;241m=\u001b[39m \u001b[43mget_handle\u001b[49m\u001b[43m(\u001b[49m\u001b[43m  \u001b[49m\u001b[38;5;66;43;03m# type: ignore[call-overload]\u001b[39;49;00m\n\u001b[0;32m   1218\u001b[0m \u001b[43m    \u001b[49m\u001b[43mf\u001b[49m\u001b[43m,\u001b[49m\n\u001b[0;32m   1219\u001b[0m \u001b[43m    \u001b[49m\u001b[43mmode\u001b[49m\u001b[43m,\u001b[49m\n\u001b[0;32m   1220\u001b[0m \u001b[43m    \u001b[49m\u001b[43mencoding\u001b[49m\u001b[38;5;241;43m=\u001b[39;49m\u001b[38;5;28;43mself\u001b[39;49m\u001b[38;5;241;43m.\u001b[39;49m\u001b[43moptions\u001b[49m\u001b[38;5;241;43m.\u001b[39;49m\u001b[43mget\u001b[49m\u001b[43m(\u001b[49m\u001b[38;5;124;43m\"\u001b[39;49m\u001b[38;5;124;43mencoding\u001b[39;49m\u001b[38;5;124;43m\"\u001b[39;49m\u001b[43m,\u001b[49m\u001b[43m \u001b[49m\u001b[38;5;28;43;01mNone\u001b[39;49;00m\u001b[43m)\u001b[49m\u001b[43m,\u001b[49m\n\u001b[0;32m   1221\u001b[0m \u001b[43m    \u001b[49m\u001b[43mcompression\u001b[49m\u001b[38;5;241;43m=\u001b[39;49m\u001b[38;5;28;43mself\u001b[39;49m\u001b[38;5;241;43m.\u001b[39;49m\u001b[43moptions\u001b[49m\u001b[38;5;241;43m.\u001b[39;49m\u001b[43mget\u001b[49m\u001b[43m(\u001b[49m\u001b[38;5;124;43m\"\u001b[39;49m\u001b[38;5;124;43mcompression\u001b[39;49m\u001b[38;5;124;43m\"\u001b[39;49m\u001b[43m,\u001b[49m\u001b[43m \u001b[49m\u001b[38;5;28;43;01mNone\u001b[39;49;00m\u001b[43m)\u001b[49m\u001b[43m,\u001b[49m\n\u001b[0;32m   1222\u001b[0m \u001b[43m    \u001b[49m\u001b[43mmemory_map\u001b[49m\u001b[38;5;241;43m=\u001b[39;49m\u001b[38;5;28;43mself\u001b[39;49m\u001b[38;5;241;43m.\u001b[39;49m\u001b[43moptions\u001b[49m\u001b[38;5;241;43m.\u001b[39;49m\u001b[43mget\u001b[49m\u001b[43m(\u001b[49m\u001b[38;5;124;43m\"\u001b[39;49m\u001b[38;5;124;43mmemory_map\u001b[39;49m\u001b[38;5;124;43m\"\u001b[39;49m\u001b[43m,\u001b[49m\u001b[43m \u001b[49m\u001b[38;5;28;43;01mFalse\u001b[39;49;00m\u001b[43m)\u001b[49m\u001b[43m,\u001b[49m\n\u001b[0;32m   1223\u001b[0m \u001b[43m    \u001b[49m\u001b[43mis_text\u001b[49m\u001b[38;5;241;43m=\u001b[39;49m\u001b[43mis_text\u001b[49m\u001b[43m,\u001b[49m\n\u001b[0;32m   1224\u001b[0m \u001b[43m    \u001b[49m\u001b[43merrors\u001b[49m\u001b[38;5;241;43m=\u001b[39;49m\u001b[38;5;28;43mself\u001b[39;49m\u001b[38;5;241;43m.\u001b[39;49m\u001b[43moptions\u001b[49m\u001b[38;5;241;43m.\u001b[39;49m\u001b[43mget\u001b[49m\u001b[43m(\u001b[49m\u001b[38;5;124;43m\"\u001b[39;49m\u001b[38;5;124;43mencoding_errors\u001b[39;49m\u001b[38;5;124;43m\"\u001b[39;49m\u001b[43m,\u001b[49m\u001b[43m \u001b[49m\u001b[38;5;124;43m\"\u001b[39;49m\u001b[38;5;124;43mstrict\u001b[39;49m\u001b[38;5;124;43m\"\u001b[39;49m\u001b[43m)\u001b[49m\u001b[43m,\u001b[49m\n\u001b[0;32m   1225\u001b[0m \u001b[43m    \u001b[49m\u001b[43mstorage_options\u001b[49m\u001b[38;5;241;43m=\u001b[39;49m\u001b[38;5;28;43mself\u001b[39;49m\u001b[38;5;241;43m.\u001b[39;49m\u001b[43moptions\u001b[49m\u001b[38;5;241;43m.\u001b[39;49m\u001b[43mget\u001b[49m\u001b[43m(\u001b[49m\u001b[38;5;124;43m\"\u001b[39;49m\u001b[38;5;124;43mstorage_options\u001b[39;49m\u001b[38;5;124;43m\"\u001b[39;49m\u001b[43m,\u001b[49m\u001b[43m \u001b[49m\u001b[38;5;28;43;01mNone\u001b[39;49;00m\u001b[43m)\u001b[49m\u001b[43m,\u001b[49m\n\u001b[0;32m   1226\u001b[0m \u001b[43m\u001b[49m\u001b[43m)\u001b[49m\n\u001b[0;32m   1227\u001b[0m \u001b[38;5;28;01massert\u001b[39;00m \u001b[38;5;28mself\u001b[39m\u001b[38;5;241m.\u001b[39mhandles \u001b[38;5;129;01mis\u001b[39;00m \u001b[38;5;129;01mnot\u001b[39;00m \u001b[38;5;28;01mNone\u001b[39;00m\n\u001b[0;32m   1228\u001b[0m f \u001b[38;5;241m=\u001b[39m \u001b[38;5;28mself\u001b[39m\u001b[38;5;241m.\u001b[39mhandles\u001b[38;5;241m.\u001b[39mhandle\n",
      "File \u001b[1;32m~\\anaconda3\\lib\\site-packages\\pandas\\io\\common.py:789\u001b[0m, in \u001b[0;36mget_handle\u001b[1;34m(path_or_buf, mode, encoding, compression, memory_map, is_text, errors, storage_options)\u001b[0m\n\u001b[0;32m    784\u001b[0m \u001b[38;5;28;01melif\u001b[39;00m \u001b[38;5;28misinstance\u001b[39m(handle, \u001b[38;5;28mstr\u001b[39m):\n\u001b[0;32m    785\u001b[0m     \u001b[38;5;66;03m# Check whether the filename is to be opened in binary mode.\u001b[39;00m\n\u001b[0;32m    786\u001b[0m     \u001b[38;5;66;03m# Binary mode does not support 'encoding' and 'newline'.\u001b[39;00m\n\u001b[0;32m    787\u001b[0m     \u001b[38;5;28;01mif\u001b[39;00m ioargs\u001b[38;5;241m.\u001b[39mencoding \u001b[38;5;129;01mand\u001b[39;00m \u001b[38;5;124m\"\u001b[39m\u001b[38;5;124mb\u001b[39m\u001b[38;5;124m\"\u001b[39m \u001b[38;5;129;01mnot\u001b[39;00m \u001b[38;5;129;01min\u001b[39;00m ioargs\u001b[38;5;241m.\u001b[39mmode:\n\u001b[0;32m    788\u001b[0m         \u001b[38;5;66;03m# Encoding\u001b[39;00m\n\u001b[1;32m--> 789\u001b[0m         handle \u001b[38;5;241m=\u001b[39m \u001b[38;5;28;43mopen\u001b[39;49m\u001b[43m(\u001b[49m\n\u001b[0;32m    790\u001b[0m \u001b[43m            \u001b[49m\u001b[43mhandle\u001b[49m\u001b[43m,\u001b[49m\n\u001b[0;32m    791\u001b[0m \u001b[43m            \u001b[49m\u001b[43mioargs\u001b[49m\u001b[38;5;241;43m.\u001b[39;49m\u001b[43mmode\u001b[49m\u001b[43m,\u001b[49m\n\u001b[0;32m    792\u001b[0m \u001b[43m            \u001b[49m\u001b[43mencoding\u001b[49m\u001b[38;5;241;43m=\u001b[39;49m\u001b[43mioargs\u001b[49m\u001b[38;5;241;43m.\u001b[39;49m\u001b[43mencoding\u001b[49m\u001b[43m,\u001b[49m\n\u001b[0;32m    793\u001b[0m \u001b[43m            \u001b[49m\u001b[43merrors\u001b[49m\u001b[38;5;241;43m=\u001b[39;49m\u001b[43merrors\u001b[49m\u001b[43m,\u001b[49m\n\u001b[0;32m    794\u001b[0m \u001b[43m            \u001b[49m\u001b[43mnewline\u001b[49m\u001b[38;5;241;43m=\u001b[39;49m\u001b[38;5;124;43m\"\u001b[39;49m\u001b[38;5;124;43m\"\u001b[39;49m\u001b[43m,\u001b[49m\n\u001b[0;32m    795\u001b[0m \u001b[43m        \u001b[49m\u001b[43m)\u001b[49m\n\u001b[0;32m    796\u001b[0m     \u001b[38;5;28;01melse\u001b[39;00m:\n\u001b[0;32m    797\u001b[0m         \u001b[38;5;66;03m# Binary mode\u001b[39;00m\n\u001b[0;32m    798\u001b[0m         handle \u001b[38;5;241m=\u001b[39m \u001b[38;5;28mopen\u001b[39m(handle, ioargs\u001b[38;5;241m.\u001b[39mmode)\n",
      "\u001b[1;31mFileNotFoundError\u001b[0m: [Errno 2] No such file or directory: 'insurance.csv'"
     ]
    }
   ],
   "source": [
    "data = pd.read_csv('insurance.csv')"
   ]
  },
  {
   "cell_type": "markdown",
   "metadata": {},
   "source": [
    "##  Exploratory Data Analysis"
   ]
  },
  {
   "cell_type": "code",
   "execution_count": 3,
   "metadata": {
    "execution": {
     "iopub.execute_input": "2022-08-05T04:02:47.737876Z",
     "iopub.status.busy": "2022-08-05T04:02:47.737134Z",
     "iopub.status.idle": "2022-08-05T04:02:47.770178Z",
     "shell.execute_reply": "2022-08-05T04:02:47.7692Z",
     "shell.execute_reply.started": "2022-08-05T04:02:47.737813Z"
    }
   },
   "outputs": [
    {
     "data": {
      "text/html": [
       "<div>\n",
       "<style scoped>\n",
       "    .dataframe tbody tr th:only-of-type {\n",
       "        vertical-align: middle;\n",
       "    }\n",
       "\n",
       "    .dataframe tbody tr th {\n",
       "        vertical-align: top;\n",
       "    }\n",
       "\n",
       "    .dataframe thead th {\n",
       "        text-align: right;\n",
       "    }\n",
       "</style>\n",
       "<table border=\"1\" class=\"dataframe\">\n",
       "  <thead>\n",
       "    <tr style=\"text-align: right;\">\n",
       "      <th></th>\n",
       "      <th>age</th>\n",
       "      <th>sex</th>\n",
       "      <th>bmi</th>\n",
       "      <th>children</th>\n",
       "      <th>smoker</th>\n",
       "      <th>region</th>\n",
       "      <th>charges</th>\n",
       "    </tr>\n",
       "  </thead>\n",
       "  <tbody>\n",
       "    <tr>\n",
       "      <th>744</th>\n",
       "      <td>50</td>\n",
       "      <td>male</td>\n",
       "      <td>26.410</td>\n",
       "      <td>0</td>\n",
       "      <td>no</td>\n",
       "      <td>northwest</td>\n",
       "      <td>8827.20990</td>\n",
       "    </tr>\n",
       "    <tr>\n",
       "      <th>703</th>\n",
       "      <td>34</td>\n",
       "      <td>female</td>\n",
       "      <td>26.410</td>\n",
       "      <td>1</td>\n",
       "      <td>no</td>\n",
       "      <td>northwest</td>\n",
       "      <td>5385.33790</td>\n",
       "    </tr>\n",
       "    <tr>\n",
       "      <th>54</th>\n",
       "      <td>40</td>\n",
       "      <td>female</td>\n",
       "      <td>28.690</td>\n",
       "      <td>3</td>\n",
       "      <td>no</td>\n",
       "      <td>northwest</td>\n",
       "      <td>8059.67910</td>\n",
       "    </tr>\n",
       "    <tr>\n",
       "      <th>277</th>\n",
       "      <td>22</td>\n",
       "      <td>female</td>\n",
       "      <td>24.300</td>\n",
       "      <td>0</td>\n",
       "      <td>no</td>\n",
       "      <td>southwest</td>\n",
       "      <td>2150.46900</td>\n",
       "    </tr>\n",
       "    <tr>\n",
       "      <th>761</th>\n",
       "      <td>23</td>\n",
       "      <td>male</td>\n",
       "      <td>35.200</td>\n",
       "      <td>1</td>\n",
       "      <td>no</td>\n",
       "      <td>southwest</td>\n",
       "      <td>2416.95500</td>\n",
       "    </tr>\n",
       "    <tr>\n",
       "      <th>992</th>\n",
       "      <td>50</td>\n",
       "      <td>female</td>\n",
       "      <td>31.600</td>\n",
       "      <td>2</td>\n",
       "      <td>no</td>\n",
       "      <td>southwest</td>\n",
       "      <td>10118.42400</td>\n",
       "    </tr>\n",
       "    <tr>\n",
       "      <th>345</th>\n",
       "      <td>34</td>\n",
       "      <td>female</td>\n",
       "      <td>29.260</td>\n",
       "      <td>3</td>\n",
       "      <td>no</td>\n",
       "      <td>southeast</td>\n",
       "      <td>6184.29940</td>\n",
       "    </tr>\n",
       "    <tr>\n",
       "      <th>471</th>\n",
       "      <td>18</td>\n",
       "      <td>female</td>\n",
       "      <td>30.115</td>\n",
       "      <td>0</td>\n",
       "      <td>no</td>\n",
       "      <td>northeast</td>\n",
       "      <td>2203.47185</td>\n",
       "    </tr>\n",
       "    <tr>\n",
       "      <th>1206</th>\n",
       "      <td>59</td>\n",
       "      <td>female</td>\n",
       "      <td>34.800</td>\n",
       "      <td>2</td>\n",
       "      <td>no</td>\n",
       "      <td>southwest</td>\n",
       "      <td>36910.60803</td>\n",
       "    </tr>\n",
       "    <tr>\n",
       "      <th>1062</th>\n",
       "      <td>59</td>\n",
       "      <td>male</td>\n",
       "      <td>41.140</td>\n",
       "      <td>1</td>\n",
       "      <td>yes</td>\n",
       "      <td>southeast</td>\n",
       "      <td>48970.24760</td>\n",
       "    </tr>\n",
       "  </tbody>\n",
       "</table>\n",
       "</div>"
      ],
      "text/plain": [
       "      age     sex     bmi  children smoker     region      charges\n",
       "744    50    male  26.410         0     no  northwest   8827.20990\n",
       "703    34  female  26.410         1     no  northwest   5385.33790\n",
       "54     40  female  28.690         3     no  northwest   8059.67910\n",
       "277    22  female  24.300         0     no  southwest   2150.46900\n",
       "761    23    male  35.200         1     no  southwest   2416.95500\n",
       "992    50  female  31.600         2     no  southwest  10118.42400\n",
       "345    34  female  29.260         3     no  southeast   6184.29940\n",
       "471    18  female  30.115         0     no  northeast   2203.47185\n",
       "1206   59  female  34.800         2     no  southwest  36910.60803\n",
       "1062   59    male  41.140         1    yes  southeast  48970.24760"
      ]
     },
     "execution_count": 3,
     "metadata": {},
     "output_type": "execute_result"
    }
   ],
   "source": [
    "data.sample(10)"
   ]
  },
  {
   "cell_type": "code",
   "execution_count": 4,
   "metadata": {
    "execution": {
     "iopub.execute_input": "2022-08-05T04:02:50.923669Z",
     "iopub.status.busy": "2022-08-05T04:02:50.923065Z",
     "iopub.status.idle": "2022-08-05T04:02:50.938794Z",
     "shell.execute_reply": "2022-08-05T04:02:50.937419Z",
     "shell.execute_reply.started": "2022-08-05T04:02:50.923619Z"
    }
   },
   "outputs": [
    {
     "data": {
      "text/plain": [
       "age         0\n",
       "sex         0\n",
       "bmi         0\n",
       "children    0\n",
       "smoker      0\n",
       "region      0\n",
       "charges     0\n",
       "dtype: int64"
      ]
     },
     "execution_count": 4,
     "metadata": {},
     "output_type": "execute_result"
    }
   ],
   "source": [
    "# checking missing values:\n",
    "data.isnull().sum()"
   ]
  },
  {
   "cell_type": "markdown",
   "metadata": {},
   "source": [
    "There is no missing value in dataset."
   ]
  },
  {
   "cell_type": "code",
   "execution_count": 5,
   "metadata": {},
   "outputs": [
    {
     "data": {
      "text/plain": [
       "[Empty DataFrame\n",
       " Columns: [age, sex, bmi, children, smoker, region, charges]\n",
       " Index: [],\n",
       " Empty DataFrame\n",
       " Columns: [age, sex, bmi, children, smoker, region, charges]\n",
       " Index: [],\n",
       " Empty DataFrame\n",
       " Columns: [age, sex, bmi, children, smoker, region, charges]\n",
       " Index: []]"
      ]
     },
     "execution_count": 5,
     "metadata": {},
     "output_type": "execute_result"
    }
   ],
   "source": [
    "# this for loop to see all the data that have unexpected values\n",
    "cols = [\"age\",\"bmi\",\"charges\"]\n",
    "to_see = []\n",
    "for col in cols:\n",
    "    unex_values = data[data[col] == 0]\n",
    "    to_see.append(unex_values)\n",
    "to_see"
   ]
  },
  {
   "cell_type": "code",
   "execution_count": 6,
   "metadata": {
    "execution": {
     "iopub.execute_input": "2022-08-05T04:02:53.820319Z",
     "iopub.status.busy": "2022-08-05T04:02:53.819884Z",
     "iopub.status.idle": "2022-08-05T04:02:53.845687Z",
     "shell.execute_reply": "2022-08-05T04:02:53.844398Z",
     "shell.execute_reply.started": "2022-08-05T04:02:53.820283Z"
    }
   },
   "outputs": [
    {
     "data": {
      "text/html": [
       "<div>\n",
       "<style scoped>\n",
       "    .dataframe tbody tr th:only-of-type {\n",
       "        vertical-align: middle;\n",
       "    }\n",
       "\n",
       "    .dataframe tbody tr th {\n",
       "        vertical-align: top;\n",
       "    }\n",
       "\n",
       "    .dataframe thead th {\n",
       "        text-align: right;\n",
       "    }\n",
       "</style>\n",
       "<table border=\"1\" class=\"dataframe\">\n",
       "  <thead>\n",
       "    <tr style=\"text-align: right;\">\n",
       "      <th></th>\n",
       "      <th>col</th>\n",
       "      <th>nunique</th>\n",
       "      <th>type</th>\n",
       "    </tr>\n",
       "  </thead>\n",
       "  <tbody>\n",
       "    <tr>\n",
       "      <th>0</th>\n",
       "      <td>age</td>\n",
       "      <td>47</td>\n",
       "      <td>int64</td>\n",
       "    </tr>\n",
       "    <tr>\n",
       "      <th>1</th>\n",
       "      <td>sex</td>\n",
       "      <td>2</td>\n",
       "      <td>object</td>\n",
       "    </tr>\n",
       "    <tr>\n",
       "      <th>2</th>\n",
       "      <td>bmi</td>\n",
       "      <td>548</td>\n",
       "      <td>float64</td>\n",
       "    </tr>\n",
       "    <tr>\n",
       "      <th>3</th>\n",
       "      <td>children</td>\n",
       "      <td>6</td>\n",
       "      <td>int64</td>\n",
       "    </tr>\n",
       "    <tr>\n",
       "      <th>4</th>\n",
       "      <td>smoker</td>\n",
       "      <td>2</td>\n",
       "      <td>object</td>\n",
       "    </tr>\n",
       "    <tr>\n",
       "      <th>5</th>\n",
       "      <td>region</td>\n",
       "      <td>4</td>\n",
       "      <td>object</td>\n",
       "    </tr>\n",
       "    <tr>\n",
       "      <th>6</th>\n",
       "      <td>charges</td>\n",
       "      <td>1337</td>\n",
       "      <td>float64</td>\n",
       "    </tr>\n",
       "  </tbody>\n",
       "</table>\n",
       "</div>"
      ],
      "text/plain": [
       "        col  nunique     type\n",
       "0       age       47    int64\n",
       "1       sex        2   object\n",
       "2       bmi      548  float64\n",
       "3  children        6    int64\n",
       "4    smoker        2   object\n",
       "5    region        4   object\n",
       "6   charges     1337  float64"
      ]
     },
     "execution_count": 6,
     "metadata": {},
     "output_type": "execute_result"
    }
   ],
   "source": [
    "# checking nunique and type per columns:\n",
    "df_nunique = pd.DataFrame([[col , data[col].nunique(),data[col].dtypes] for col in data.columns],columns=['col','nunique','type'])\n",
    "df_nunique"
   ]
  },
  {
   "cell_type": "code",
   "execution_count": 7,
   "metadata": {
    "execution": {
     "iopub.execute_input": "2022-08-05T04:03:01.492972Z",
     "iopub.status.busy": "2022-08-05T04:03:01.49257Z",
     "iopub.status.idle": "2022-08-05T04:03:01.706463Z",
     "shell.execute_reply": "2022-08-05T04:03:01.705149Z",
     "shell.execute_reply.started": "2022-08-05T04:03:01.492939Z"
    }
   },
   "outputs": [
    {
     "name": "stdout",
     "output_type": "stream",
     "text": [
      "male      676\n",
      "female    662\n",
      "Name: sex, dtype: int64\n"
     ]
    },
    {
     "data": {
      "text/plain": [
       "<AxesSubplot:xlabel='sex', ylabel='count'>"
      ]
     },
     "execution_count": 7,
     "metadata": {},
     "output_type": "execute_result"
    },
    {
     "data": {
      "image/png": "[encoded data removed]",
      "text/plain": [
       "<Figure size 576x288 with 1 Axes>"
      ]
     },
     "metadata": {
      "needs_background": "light"
     },
     "output_type": "display_data"
    }
   ],
   "source": [
    "print(data['sex'].value_counts())\n",
    "plt.figure(figsize=(8,4))\n",
    "sns.countplot(data=data, x = 'sex' )"
   ]
  },
  {
   "cell_type": "markdown",
   "metadata": {},
   "source": [
    "The male gender is having a slightly more population,but male and female are almost equal population."
   ]
  },
  {
   "cell_type": "code",
   "execution_count": 8,
   "metadata": {
    "execution": {
     "iopub.execute_input": "2022-08-05T04:03:04.718923Z",
     "iopub.status.busy": "2022-08-05T04:03:04.71842Z",
     "iopub.status.idle": "2022-08-05T04:03:05.232247Z",
     "shell.execute_reply": "2022-08-05T04:03:05.231136Z",
     "shell.execute_reply.started": "2022-08-05T04:03:04.718878Z"
    }
   },
   "outputs": [
    {
     "data": {
      "text/plain": [
       "<AxesSubplot:xlabel='count', ylabel='age'>"
      ]
     },
     "execution_count": 8,
     "metadata": {},
     "output_type": "execute_result"
    },
    {
     "data": {
      "image/png": "[encoded data removed]",
      "text/plain": [
       "<Figure size 1080x1080 with 1 Axes>"
      ]
     },
     "metadata": {
      "needs_background": "light"
     },
     "output_type": "display_data"
    }
   ],
   "source": [
    "plt.figure(figsize=(15,15))\n",
    "sns.countplot(data=data, y = 'age')"
   ]
  },
  {
   "cell_type": "markdown",
   "metadata": {},
   "source": [
    "#### Its Age column shows there is more people from the age of 18,19 compared to other age people."
   ]
  },
  {
   "cell_type": "code",
   "execution_count": 9,
   "metadata": {
    "execution": {
     "iopub.execute_input": "2022-08-05T04:03:07.839407Z",
     "iopub.status.busy": "2022-08-05T04:03:07.838946Z",
     "iopub.status.idle": "2022-08-05T04:03:08.101234Z",
     "shell.execute_reply": "2022-08-05T04:03:08.098205Z",
     "shell.execute_reply.started": "2022-08-05T04:03:07.839368Z"
    }
   },
   "outputs": [
    {
     "data": {
      "image/png": "[encoded data removed]",
      "text/plain": [
       "<Figure size 432x288 with 1 Axes>"
      ]
     },
     "metadata": {
      "needs_background": "light"
     },
     "output_type": "display_data"
    }
   ],
   "source": [
    "sns.distplot(data['bmi'])\n",
    "plt.show()"
   ]
  },
  {
   "cell_type": "code",
   "execution_count": 10,
   "metadata": {
    "execution": {
     "iopub.execute_input": "2022-08-05T04:03:11.061551Z",
     "iopub.status.busy": "2022-08-05T04:03:11.061106Z",
     "iopub.status.idle": "2022-08-05T04:03:11.265039Z",
     "shell.execute_reply": "2022-08-05T04:03:11.263414Z",
     "shell.execute_reply.started": "2022-08-05T04:03:11.061514Z"
    }
   },
   "outputs": [
    {
     "data": {
      "text/plain": [
       "<AxesSubplot:xlabel='children', ylabel='count'>"
      ]
     },
     "execution_count": 10,
     "metadata": {},
     "output_type": "execute_result"
    },
    {
     "data": {
      "image/png": "[encoded data removed]",
      "text/plain": [
       "<Figure size 576x288 with 1 Axes>"
      ]
     },
     "metadata": {
      "needs_background": "light"
     },
     "output_type": "display_data"
    }
   ],
   "source": [
    "plt.figure(figsize=(8,4))\n",
    "sns.countplot(data=data, x = 'children')"
   ]
  },
  {
   "cell_type": "code",
   "execution_count": 11,
   "metadata": {
    "execution": {
     "iopub.execute_input": "2022-08-05T04:03:13.629204Z",
     "iopub.status.busy": "2022-08-05T04:03:13.628746Z",
     "iopub.status.idle": "2022-08-05T04:03:13.789324Z",
     "shell.execute_reply": "2022-08-05T04:03:13.788308Z",
     "shell.execute_reply.started": "2022-08-05T04:03:13.629164Z"
    }
   },
   "outputs": [
    {
     "data": {
      "text/plain": [
       "<AxesSubplot:xlabel='smoker', ylabel='count'>"
      ]
     },
     "execution_count": 11,
     "metadata": {},
     "output_type": "execute_result"
    },
    {
     "data": {
      "image/png": "[encoded data removed]",
      "text/plain": [
       "<Figure size 576x288 with 1 Axes>"
      ]
     },
     "metadata": {
      "needs_background": "light"
     },
     "output_type": "display_data"
    }
   ],
   "source": [
    "plt.figure(figsize=(8,4))\n",
    "sns.countplot(data=data, x = 'smoker')"
   ]
  },
  {
   "cell_type": "markdown",
   "metadata": {},
   "source": [
    "There is very less number of smokers in this dataset."
   ]
  },
  {
   "cell_type": "code",
   "execution_count": 12,
   "metadata": {
    "execution": {
     "iopub.execute_input": "2022-08-05T04:03:16.419959Z",
     "iopub.status.busy": "2022-08-05T04:03:16.419517Z",
     "iopub.status.idle": "2022-08-05T04:03:16.759894Z",
     "shell.execute_reply": "2022-08-05T04:03:16.758878Z",
     "shell.execute_reply.started": "2022-08-05T04:03:16.419923Z"
    }
   },
   "outputs": [
    {
     "data": {
      "image/png": "[encoded data removed]",
      "text/plain": [
       "<Figure size 648x684 with 1 Axes>"
      ]
     },
     "metadata": {},
     "output_type": "display_data"
    }
   ],
   "source": [
    "#plotting pie chart of the region feature\n",
    "plt.figure(figsize=(9,9.5))\n",
    "data['region'].value_counts().plot(kind='pie',explode=[0.2,0,0,0],legend=True,autopct='%.2f%%',shadow=True)\n",
    "plt.title('Percentage distribution of Region')\n",
    "plt.show()"
   ]
  },
  {
   "cell_type": "markdown",
   "metadata": {},
   "source": [
    "Making our target variable normally distributed often will lead to better results.\n",
    "If our target is not normally distributed, we can apply a transformation to it and then fit our regression to predict the transformed values.\n",
    "How can we tell if our target is normally distributed? There are two ways:\n",
    "* Visually\n",
    "* Using a statistical test\n",
    "\n",
    "This test outputs a \"p-value\". The higher this p-value is the closer the distribution is to normal.\n",
    "some common transformations to try and get y to be normally distributed:\n",
    "* Log\n",
    "* Square root\n",
    "* Box cox\n"
   ]
  },
  {
   "cell_type": "code",
   "execution_count": 13,
   "metadata": {
    "execution": {
     "iopub.execute_input": "2022-08-05T04:03:22.282782Z",
     "iopub.status.busy": "2022-08-05T04:03:22.28231Z",
     "iopub.status.idle": "2022-08-05T04:03:22.553776Z",
     "shell.execute_reply": "2022-08-05T04:03:22.552449Z",
     "shell.execute_reply.started": "2022-08-05T04:03:22.282746Z"
    }
   },
   "outputs": [
    {
     "data": {
      "text/plain": [
       "<AxesSubplot:xlabel='charges', ylabel='Count'>"
      ]
     },
     "execution_count": 13,
     "metadata": {},
     "output_type": "execute_result"
    },
    {
     "data": {
      "image/png": "[encoded data removed]",
      "text/plain": [
       "<Figure size 576x288 with 1 Axes>"
      ]
     },
     "metadata": {
      "needs_background": "light"
     },
     "output_type": "display_data"
    }
   ],
   "source": [
    "plt.figure(figsize=(8,4))\n",
    "sns.histplot(data=data, x = 'charges' )"
   ]
  },
  {
   "cell_type": "markdown",
   "metadata": {},
   "source": [
    "The Target does not appear to be normally distributed."
   ]
  },
  {
   "cell_type": "code",
   "execution_count": 14,
   "metadata": {
    "execution": {
     "iopub.execute_input": "2022-08-05T04:03:29.944934Z",
     "iopub.status.busy": "2022-08-05T04:03:29.944509Z",
     "iopub.status.idle": "2022-08-05T04:03:29.956299Z",
     "shell.execute_reply": "2022-08-05T04:03:29.954946Z",
     "shell.execute_reply.started": "2022-08-05T04:03:29.944896Z"
    }
   },
   "outputs": [
    {
     "name": "stdout",
     "output_type": "stream",
     "text": [
      "NormaltestResult(statistic=336.8851220567733, pvalue=7.019807901276197e-74)\n"
     ]
    }
   ],
   "source": [
    "# Calculate Normaltest on target before apply log Transformation:\n",
    "from scipy.stats.mstats import normaltest\n",
    "print(normaltest(data.charges))"
   ]
  },
  {
   "cell_type": "markdown",
   "metadata": {},
   "source": [
    "As we can see pvalue is very low."
   ]
  },
  {
   "cell_type": "markdown",
   "metadata": {},
   "source": [
    "### Apply log transformation"
   ]
  },
  {
   "cell_type": "code",
   "execution_count": 15,
   "metadata": {
    "execution": {
     "iopub.execute_input": "2022-08-05T04:03:50.950796Z",
     "iopub.status.busy": "2022-08-05T04:03:50.950369Z",
     "iopub.status.idle": "2022-08-05T04:03:50.964518Z",
     "shell.execute_reply": "2022-08-05T04:03:50.96315Z",
     "shell.execute_reply.started": "2022-08-05T04:03:50.95076Z"
    }
   },
   "outputs": [
    {
     "name": "stdout",
     "output_type": "stream",
     "text": [
      "NormaltestResult(statistic=52.75253430687823, pvalue=3.50697542068533e-12)\n"
     ]
    }
   ],
   "source": [
    "data.charges = np.log1p(data.charges)\n",
    "print(normaltest(data.charges))"
   ]
  },
  {
   "cell_type": "markdown",
   "metadata": {},
   "source": [
    "pvalue significantly increased."
   ]
  },
  {
   "cell_type": "code",
   "execution_count": 16,
   "metadata": {
    "execution": {
     "iopub.execute_input": "2022-08-05T04:03:57.128663Z",
     "iopub.status.busy": "2022-08-05T04:03:57.12781Z",
     "iopub.status.idle": "2022-08-05T04:03:57.385239Z",
     "shell.execute_reply": "2022-08-05T04:03:57.384302Z",
     "shell.execute_reply.started": "2022-08-05T04:03:57.128619Z"
    }
   },
   "outputs": [
    {
     "data": {
      "text/plain": [
       "<AxesSubplot:xlabel='charges', ylabel='Count'>"
      ]
     },
     "execution_count": 16,
     "metadata": {},
     "output_type": "execute_result"
    },
    {
     "data": {
      "image/png": "[encoded data removed]",
      "text/plain": [
       "<Figure size 576x288 with 1 Axes>"
      ]
     },
     "metadata": {
      "needs_background": "light"
     },
     "output_type": "display_data"
    }
   ],
   "source": [
    "plt.figure(figsize=(8,4))\n",
    "sns.histplot(data=data, x = 'charges' )"
   ]
  },
  {
   "cell_type": "markdown",
   "metadata": {},
   "source": [
    "## Preprocessing"
   ]
  },
  {
   "cell_type": "code",
   "execution_count": 17,
   "metadata": {
    "execution": {
     "iopub.execute_input": "2022-08-05T04:04:03.522128Z",
     "iopub.status.busy": "2022-08-05T04:04:03.521661Z",
     "iopub.status.idle": "2022-08-05T04:04:03.528958Z",
     "shell.execute_reply": "2022-08-05T04:04:03.52741Z",
     "shell.execute_reply.started": "2022-08-05T04:04:03.522053Z"
    }
   },
   "outputs": [],
   "source": [
    "# categorical Features:\n",
    "cat_features = [col for col in data.columns if data[col].dtypes=='object']"
   ]
  },
  {
   "cell_type": "markdown",
   "metadata": {},
   "source": [
    "These categorical features are Nominal, so i used get_dummies function to encode these features:"
   ]
  },
  {
   "cell_type": "code",
   "execution_count": 18,
   "metadata": {
    "execution": {
     "iopub.execute_input": "2022-08-05T04:04:15.618051Z",
     "iopub.status.busy": "2022-08-05T04:04:15.617595Z",
     "iopub.status.idle": "2022-08-05T04:04:15.642682Z",
     "shell.execute_reply": "2022-08-05T04:04:15.641486Z",
     "shell.execute_reply.started": "2022-08-05T04:04:15.618012Z"
    }
   },
   "outputs": [],
   "source": [
    "# apply get_dummies:\n",
    "for col in cat_features:\n",
    "    dummy = pd.get_dummies(data[col], prefix=col)\n",
    "    data = pd.merge(left=data, right=dummy, left_index=True, right_index=True)\n",
    "    data.drop(col,axis=1,inplace=True)\n",
    "columns = []\n",
    "\n",
    "# reindex columns:\n",
    "for col in data.columns:\n",
    "    if col != 'charges':\n",
    "        columns.append(col)\n",
    "columns.append('charges')\n",
    "data = data.reindex(columns=columns)"
   ]
  },
  {
   "cell_type": "code",
   "execution_count": 19,
   "metadata": {
    "execution": {
     "iopub.execute_input": "2022-08-05T04:04:22.854962Z",
     "iopub.status.busy": "2022-08-05T04:04:22.853757Z",
     "iopub.status.idle": "2022-08-05T04:04:22.992602Z",
     "shell.execute_reply": "2022-08-05T04:04:22.991513Z",
     "shell.execute_reply.started": "2022-08-05T04:04:22.854911Z"
    }
   },
   "outputs": [],
   "source": [
    "from sklearn.model_selection import train_test_split\n",
    "from sklearn.preprocessing import MinMaxScaler"
   ]
  },
  {
   "cell_type": "code",
   "execution_count": 20,
   "metadata": {
    "execution": {
     "iopub.execute_input": "2022-08-05T04:04:26.446185Z",
     "iopub.status.busy": "2022-08-05T04:04:26.445246Z",
     "iopub.status.idle": "2022-08-05T04:04:26.453064Z",
     "shell.execute_reply": "2022-08-05T04:04:26.451598Z",
     "shell.execute_reply.started": "2022-08-05T04:04:26.446143Z"
    }
   },
   "outputs": [],
   "source": [
    "X = data.drop('charges',axis=1)\n",
    "y = data.charges"
   ]
  },
  {
   "cell_type": "code",
   "execution_count": 21,
   "metadata": {
    "execution": {
     "iopub.execute_input": "2022-08-05T04:06:45.829119Z",
     "iopub.status.busy": "2022-08-05T04:06:45.828656Z",
     "iopub.status.idle": "2022-08-05T04:06:45.8381Z",
     "shell.execute_reply": "2022-08-05T04:06:45.837035Z",
     "shell.execute_reply.started": "2022-08-05T04:06:45.829065Z"
    }
   },
   "outputs": [],
   "source": [
    "X_train,X_test,y_train,y_test = train_test_split(X,y,test_size=0.25,random_state=42)"
   ]
  },
  {
   "cell_type": "markdown",
   "metadata": {},
   "source": [
    "### Scaling"
   ]
  },
  {
   "cell_type": "code",
   "execution_count": 22,
   "metadata": {
    "execution": {
     "iopub.execute_input": "2022-08-05T04:08:34.840498Z",
     "iopub.status.busy": "2022-08-05T04:08:34.840074Z",
     "iopub.status.idle": "2022-08-05T04:08:34.85366Z",
     "shell.execute_reply": "2022-08-05T04:08:34.852377Z",
     "shell.execute_reply.started": "2022-08-05T04:08:34.840465Z"
    }
   },
   "outputs": [],
   "source": [
    "minmax = MinMaxScaler()\n",
    "X_train_scaled = minmax.fit_transform(X_train)\n",
    "X_test_scaled = minmax.transform(X_test)"
   ]
  },
  {
   "cell_type": "markdown",
   "metadata": {},
   "source": [
    "## Modeling"
   ]
  },
  {
   "cell_type": "markdown",
   "metadata": {},
   "source": [
    "### For the modeling part we will compare 8 known algorithms for Regression"
   ]
  },
  {
   "cell_type": "markdown",
   "metadata": {},
   "source": [
    "#### 1: Linear Regression\n",
    "\n",
    "#### 2: Ridge\n",
    "\n",
    "#### 3: Lasso\n",
    "\n",
    "#### 4: SVR\n",
    "\n",
    "#### 5: DecisionTreeRegressor\n",
    "\n",
    "#### 6: RandomForestRegressor\n",
    "\n",
    "#### 7: ExtraTreesRegressor\n",
    "\n",
    "#### 8: GradientBoostingRegressor"
   ]
  },
  {
   "cell_type": "code",
   "execution_count": 23,
   "metadata": {
    "execution": {
     "iopub.execute_input": "2022-08-05T04:27:28.893493Z",
     "iopub.status.busy": "2022-08-05T04:27:28.893039Z",
     "iopub.status.idle": "2022-08-05T04:27:29.110492Z",
     "shell.execute_reply": "2022-08-05T04:27:29.109614Z",
     "shell.execute_reply.started": "2022-08-05T04:27:28.893458Z"
    }
   },
   "outputs": [],
   "source": [
    "from sklearn.linear_model import LinearRegression\n",
    "from sklearn.linear_model import Ridge\n",
    "from sklearn.linear_model import Lasso\n",
    "from sklearn.svm import SVR\n",
    "from sklearn.tree import DecisionTreeRegressor\n",
    "from sklearn.ensemble import RandomForestRegressor\n",
    "from sklearn.ensemble import ExtraTreesRegressor\n",
    "from sklearn.ensemble import GradientBoostingRegressor"
   ]
  },
  {
   "cell_type": "code",
   "execution_count": 24,
   "metadata": {
    "execution": {
     "iopub.execute_input": "2022-08-05T05:05:49.192536Z",
     "iopub.status.busy": "2022-08-05T05:05:49.192128Z",
     "iopub.status.idle": "2022-08-05T05:05:49.199368Z",
     "shell.execute_reply": "2022-08-05T05:05:49.198356Z",
     "shell.execute_reply.started": "2022-08-05T05:05:49.192506Z"
    }
   },
   "outputs": [],
   "source": [
    "# Define classifiers:\n",
    "from sklearn.model_selection import KFold\n",
    "kf = KFold(n_splits=3, shuffle=True, random_state=42)\n",
    "Classifiers = []\n",
    "Classifiers.append(LinearRegression())\n",
    "Classifiers.append(Ridge())\n",
    "Classifiers.append(Lasso())\n",
    "Classifiers.append(SVR())\n",
    "Classifiers.append(DecisionTreeRegressor())\n",
    "Classifiers.append(RandomForestRegressor())\n",
    "Classifiers.append(ExtraTreesRegressor())\n",
    "Classifiers.append(GradientBoostingRegressor())"
   ]
  },
  {
   "cell_type": "markdown",
   "metadata": {},
   "source": [
    "### Apply GridSearchCV"
   ]
  },
  {
   "cell_type": "code",
   "execution_count": 25,
   "metadata": {
    "execution": {
     "iopub.execute_input": "2022-08-05T05:27:26.144896Z",
     "iopub.status.busy": "2022-08-05T05:27:26.144488Z",
     "iopub.status.idle": "2022-08-05T05:27:26.157973Z",
     "shell.execute_reply": "2022-08-05T05:27:26.156833Z",
     "shell.execute_reply.started": "2022-08-05T05:27:26.144864Z"
    }
   },
   "outputs": [],
   "source": [
    "# define parameters for GridSearchCV:\n",
    "param_grid_LR = {'fit_intercept':[True,False],\n",
    "                'normalize':[True,False],\n",
    "                 'copy_X':[True,False]}\n",
    "\n",
    "param_grid_Ridge = {'alpha': [i/1000 for i in range(1,1000)],\n",
    "                    \"fit_intercept\": [True, False],\n",
    "                    \"solver\": ['svd', 'cholesky', 'lsqr', 'sparse_cg', 'sag', 'saga']}\n",
    "\n",
    "param_grid_Lasso = {'alpha': [i/1000 for i in range(1,1000)],\n",
    "                    \"fit_intercept\": [True, False]}\n",
    "\n",
    "param_grid_SVR = {'kernel':['linear', 'poly', 'rbf', 'sigmoid'],\n",
    "                   'C' : np.logspace(-3,3,10),\n",
    "                   'gamma' : ['auto','scale']}\n",
    "\n",
    "param_grid_DT = {\"splitter\":[\"best\",\"random\"],\n",
    "                 \"max_depth\" : [i for i in range(1,10)],\n",
    "                 \"min_samples_leaf\":[i for i in range(1,5)],\n",
    "                 \"min_weight_fraction_leaf\":[i/100 for i in range(1,101,10)],\n",
    "                 \"max_features\":[\"auto\",\"log2\",\"sqrt\",None],\n",
    "                 \"max_leaf_nodes\":[None,10,20,30,40,50,60,70,80,90]}\n",
    "\n",
    "param_grid_RF = {'n_estimators': [i for i in range(100,500,100)],\n",
    "                 'max_features': ['auto', 'sqrt', 'log2'],\n",
    "                 'max_depth' : np.arange(1,10)}\n",
    "\n",
    "param_grid_ET = {'n_estimators': [i for i in range(100,500,100)],\n",
    "                 'max_features': ['auto', 'sqrt', 'log2'],\n",
    "                 'max_depth' : np.arange(1,10)}\n",
    "\n",
    "param_grid_GB = {'learning_rate': [i/100 for i in range(1,5)],\n",
    "                  'subsample' : [i/10 for i in range(1,10)],\n",
    "                  'n_estimators' : [i for i in range(100,500,100)],\n",
    "                  'max_depth' : np.arange(1,10)}"
   ]
  },
  {
   "cell_type": "markdown",
   "metadata": {},
   "source": [
    "### It will take about 15-20 min to run"
   ]
  },
  {
   "cell_type": "code",
   "execution_count": 26,
   "metadata": {
    "execution": {
     "iopub.execute_input": "2022-08-05T05:02:45.050508Z",
     "iopub.status.busy": "2022-08-05T05:02:45.050076Z",
     "iopub.status.idle": "2022-08-05T05:02:45.055632Z",
     "shell.execute_reply": "2022-08-05T05:02:45.054147Z",
     "shell.execute_reply.started": "2022-08-05T05:02:45.050473Z"
    }
   },
   "outputs": [],
   "source": [
    "from sklearn.model_selection import GridSearchCV"
   ]
  },
  {
   "cell_type": "code",
   "execution_count": 27,
   "metadata": {
    "execution": {
     "iopub.execute_input": "2022-08-05T05:06:45.506136Z",
     "iopub.status.busy": "2022-08-05T05:06:45.505742Z",
     "iopub.status.idle": "2022-08-05T05:06:47.142625Z",
     "shell.execute_reply": "2022-08-05T05:06:47.141178Z",
     "shell.execute_reply.started": "2022-08-05T05:06:45.506104Z"
    }
   },
   "outputs": [
    {
     "name": "stdout",
     "output_type": "stream",
     "text": [
      "{'copy_X': True, 'fit_intercept': True, 'normalize': False}\n"
     ]
    }
   ],
   "source": [
    "# GridSearchCV for Linear Regression:\n",
    "grid_LR = GridSearchCV(Classifiers[0],param_grid_LR, cv=kf, n_jobs=-1 )\n",
    "grid_LR = grid_LR.fit(X_train_scaled,y_train)\n",
    "print(grid_LR.best_params_)"
   ]
  },
  {
   "cell_type": "code",
   "execution_count": 28,
   "metadata": {
    "execution": {
     "iopub.execute_input": "2022-08-05T05:07:30.055236Z",
     "iopub.status.busy": "2022-08-05T05:07:30.05476Z",
     "iopub.status.idle": "2022-08-05T05:07:30.520301Z",
     "shell.execute_reply": "2022-08-05T05:07:30.518979Z",
     "shell.execute_reply.started": "2022-08-05T05:07:30.055196Z"
    }
   },
   "outputs": [
    {
     "name": "stdout",
     "output_type": "stream",
     "text": [
      "{'alpha': 0.143, 'fit_intercept': False, 'solver': 'sag'}\n"
     ]
    }
   ],
   "source": [
    "# GridSearchCV for Ridge:\n",
    "grid_Ridge = GridSearchCV(Classifiers[1],param_grid_Ridge, cv=kf, n_jobs=-1 )\n",
    "grid_Ridge = grid_Ridge.fit(X_train_scaled,y_train)\n",
    "print(grid_Ridge.best_params_)"
   ]
  },
  {
   "cell_type": "code",
   "execution_count": 29,
   "metadata": {
    "execution": {
     "iopub.execute_input": "2022-08-05T05:09:16.085955Z",
     "iopub.status.busy": "2022-08-05T05:09:16.085571Z",
     "iopub.status.idle": "2022-08-05T05:09:17.589201Z",
     "shell.execute_reply": "2022-08-05T05:09:17.587699Z",
     "shell.execute_reply.started": "2022-08-05T05:09:16.085923Z"
    }
   },
   "outputs": [
    {
     "name": "stdout",
     "output_type": "stream",
     "text": [
      "{'alpha': 0.003, 'fit_intercept': False}\n"
     ]
    }
   ],
   "source": [
    "# GridSearchCV for Lasso:\n",
    "grid_Lasso = GridSearchCV(Classifiers[2],param_grid_Lasso, cv=kf, n_jobs=-1 )\n",
    "grid_Lasso = grid_Lasso.fit(X_train_scaled,y_train)\n",
    "print(grid_Lasso.best_params_)"
   ]
  },
  {
   "cell_type": "code",
   "execution_count": 30,
   "metadata": {
    "execution": {
     "iopub.execute_input": "2022-08-05T05:23:36.100304Z",
     "iopub.status.busy": "2022-08-05T05:23:36.099884Z",
     "iopub.status.idle": "2022-08-05T05:24:21.276231Z",
     "shell.execute_reply": "2022-08-05T05:24:21.274762Z",
     "shell.execute_reply.started": "2022-08-05T05:23:36.100266Z"
    }
   },
   "outputs": [
    {
     "name": "stdout",
     "output_type": "stream",
     "text": [
      "{'C': 10.0, 'gamma': 'scale', 'kernel': 'poly'}\n"
     ]
    }
   ],
   "source": [
    "# GridSearchCV for SVR:\n",
    "grid_SVR = GridSearchCV(Classifiers[3],param_grid_SVR, cv=kf, n_jobs=-1 )\n",
    "grid_SVR = grid_SVR.fit(X_train_scaled,y_train)\n",
    "print(grid_SVR.best_params_)"
   ]
  },
  {
   "cell_type": "code",
   "execution_count": 31,
   "metadata": {
    "execution": {
     "iopub.execute_input": "2022-08-05T05:24:27.567107Z",
     "iopub.status.busy": "2022-08-05T05:24:27.566666Z",
     "iopub.status.idle": "2022-08-05T05:26:16.755815Z",
     "shell.execute_reply": "2022-08-05T05:26:16.754808Z",
     "shell.execute_reply.started": "2022-08-05T05:24:27.567055Z"
    }
   },
   "outputs": [
    {
     "name": "stdout",
     "output_type": "stream",
     "text": [
      "{'max_depth': 7, 'max_features': 'auto', 'max_leaf_nodes': 50, 'min_samples_leaf': 2, 'min_weight_fraction_leaf': 0.01, 'splitter': 'random'}\n"
     ]
    }
   ],
   "source": [
    "# GridSearchCV for DecisionTreeRegressor:\n",
    "grid_DT = GridSearchCV(Classifiers[4],param_grid_DT, cv=kf, n_jobs=-1 )\n",
    "grid_DT = grid_DT.fit(X_train_scaled,y_train)\n",
    "print(grid_DT.best_params_)"
   ]
  },
  {
   "cell_type": "code",
   "execution_count": 32,
   "metadata": {
    "execution": {
     "iopub.execute_input": "2022-08-05T05:27:30.658994Z",
     "iopub.status.busy": "2022-08-05T05:27:30.657595Z",
     "iopub.status.idle": "2022-08-05T05:28:17.487221Z",
     "shell.execute_reply": "2022-08-05T05:28:17.48637Z",
     "shell.execute_reply.started": "2022-08-05T05:27:30.658941Z"
    }
   },
   "outputs": [
    {
     "name": "stdout",
     "output_type": "stream",
     "text": [
      "{'max_depth': 4, 'max_features': 'auto', 'n_estimators': 300}\n"
     ]
    }
   ],
   "source": [
    "# GridSearchCV for RandomForestRegressor:\n",
    "grid_RF = GridSearchCV(Classifiers[5],param_grid_RF, cv=kf, n_jobs=-1 )\n",
    "grid_RF = grid_RF.fit(X_train_scaled,y_train)\n",
    "print(grid_RF.best_params_)"
   ]
  },
  {
   "cell_type": "code",
   "execution_count": 33,
   "metadata": {
    "execution": {
     "iopub.execute_input": "2022-08-05T05:28:40.127025Z",
     "iopub.status.busy": "2022-08-05T05:28:40.126261Z",
     "iopub.status.idle": "2022-08-05T05:29:16.36377Z",
     "shell.execute_reply": "2022-08-05T05:29:16.36262Z",
     "shell.execute_reply.started": "2022-08-05T05:28:40.126988Z"
    }
   },
   "outputs": [
    {
     "name": "stdout",
     "output_type": "stream",
     "text": [
      "{'max_depth': 6, 'max_features': 'auto', 'n_estimators': 400}\n"
     ]
    }
   ],
   "source": [
    "# GridSearchCV for ExtraTreesRegressor:\n",
    "grid_ET = GridSearchCV(Classifiers[6],param_grid_ET, cv=kf, n_jobs=-1 )\n",
    "grid_ET = grid_ET.fit(X_train_scaled,y_train)\n",
    "print(grid_ET.best_params_)"
   ]
  },
  {
   "cell_type": "code",
   "execution_count": 34,
   "metadata": {
    "execution": {
     "iopub.execute_input": "2022-08-05T05:29:46.991755Z",
     "iopub.status.busy": "2022-08-05T05:29:46.991307Z",
     "iopub.status.idle": "2022-08-05T05:31:50.387183Z",
     "shell.execute_reply": "2022-08-05T05:31:50.385972Z",
     "shell.execute_reply.started": "2022-08-05T05:29:46.991719Z"
    }
   },
   "outputs": [
    {
     "name": "stdout",
     "output_type": "stream",
     "text": [
      "{'learning_rate': 0.04, 'max_depth': 3, 'n_estimators': 100, 'subsample': 0.8}\n"
     ]
    }
   ],
   "source": [
    "# GridSearchCV for GradientBoostingRegressor:\n",
    "grid_GB = GridSearchCV(Classifiers[7],param_grid_GB, cv=kf, n_jobs=-1 )\n",
    "grid_GB = grid_GB.fit(X_train_scaled,y_train)\n",
    "print(grid_GB.best_params_)"
   ]
  },
  {
   "cell_type": "code",
   "execution_count": 35,
   "metadata": {
    "execution": {
     "iopub.execute_input": "2022-08-05T05:42:12.900452Z",
     "iopub.status.busy": "2022-08-05T05:42:12.900008Z",
     "iopub.status.idle": "2022-08-05T05:42:12.905217Z",
     "shell.execute_reply": "2022-08-05T05:42:12.904373Z",
     "shell.execute_reply.started": "2022-08-05T05:42:12.900412Z"
    }
   },
   "outputs": [],
   "source": [
    "from sklearn.metrics import r2_score"
   ]
  },
  {
   "cell_type": "code",
   "execution_count": 36,
   "metadata": {
    "execution": {
     "iopub.execute_input": "2022-08-05T05:42:31.627963Z",
     "iopub.status.busy": "2022-08-05T05:42:31.627586Z",
     "iopub.status.idle": "2022-08-05T05:42:31.642846Z",
     "shell.execute_reply": "2022-08-05T05:42:31.641397Z",
     "shell.execute_reply.started": "2022-08-05T05:42:31.627931Z"
    }
   },
   "outputs": [
    {
     "data": {
      "text/plain": [
       "0.7782801110430396"
      ]
     },
     "execution_count": 36,
     "metadata": {},
     "output_type": "execute_result"
    }
   ],
   "source": [
    "# Create LR Model:\n",
    "model_LR = LinearRegression(copy_X = True, fit_intercept = True, normalize = True)\n",
    "model_LR = model_LR.fit(X_train_scaled, y_train)\n",
    "y_pred = model_LR.predict(X_test_scaled)\n",
    "acc_LR = r2_score(y_test, y_pred)\n",
    "r2_score(y_test, y_pred)"
   ]
  },
  {
   "cell_type": "code",
   "execution_count": 37,
   "metadata": {
    "execution": {
     "iopub.execute_input": "2022-08-05T05:42:49.252185Z",
     "iopub.status.busy": "2022-08-05T05:42:49.251798Z",
     "iopub.status.idle": "2022-08-05T05:42:49.272291Z",
     "shell.execute_reply": "2022-08-05T05:42:49.271077Z",
     "shell.execute_reply.started": "2022-08-05T05:42:49.252153Z"
    }
   },
   "outputs": [
    {
     "data": {
      "text/plain": [
       "0.7782042025145711"
      ]
     },
     "execution_count": 37,
     "metadata": {},
     "output_type": "execute_result"
    }
   ],
   "source": [
    "# Create Ridge Model:\n",
    "model_Ridge = Ridge(alpha = 0.366, fit_intercept = False, solver = 'sag')\n",
    "model_Ridge = model_Ridge.fit(X_train_scaled, y_train)\n",
    "y_pred = model_Ridge.predict(X_test_scaled)\n",
    "acc_Ridge = r2_score(y_test, y_pred)\n",
    "r2_score(y_test, y_pred)"
   ]
  },
  {
   "cell_type": "code",
   "execution_count": 38,
   "metadata": {
    "execution": {
     "iopub.execute_input": "2022-08-05T05:42:53.821823Z",
     "iopub.status.busy": "2022-08-05T05:42:53.821047Z",
     "iopub.status.idle": "2022-08-05T05:42:53.859533Z",
     "shell.execute_reply": "2022-08-05T05:42:53.858175Z",
     "shell.execute_reply.started": "2022-08-05T05:42:53.82178Z"
    }
   },
   "outputs": [
    {
     "data": {
      "text/plain": [
       "0.7769855489699823"
      ]
     },
     "execution_count": 38,
     "metadata": {},
     "output_type": "execute_result"
    }
   ],
   "source": [
    "# Create Lasso Model:\n",
    "model_Lasso = Lasso(alpha = 0.003, fit_intercept = False)\n",
    "model_Lasso = model_Lasso.fit(X_train_scaled, y_train)\n",
    "y_pred = model_Lasso.predict(X_test_scaled)\n",
    "acc_Lasso = r2_score(y_test, y_pred)\n",
    "r2_score(y_test, y_pred)"
   ]
  },
  {
   "cell_type": "code",
   "execution_count": 39,
   "metadata": {
    "execution": {
     "iopub.execute_input": "2022-08-05T05:42:57.659814Z",
     "iopub.status.busy": "2022-08-05T05:42:57.659348Z",
     "iopub.status.idle": "2022-08-05T05:42:58.019964Z",
     "shell.execute_reply": "2022-08-05T05:42:58.017895Z",
     "shell.execute_reply.started": "2022-08-05T05:42:57.659779Z"
    }
   },
   "outputs": [
    {
     "data": {
      "text/plain": [
       "0.8321128587860906"
      ]
     },
     "execution_count": 39,
     "metadata": {},
     "output_type": "execute_result"
    }
   ],
   "source": [
    "# Create SVR Model:\n",
    "model_SVR = SVR(C = 10, gamma = 'scale', kernel = 'poly')\n",
    "model_SVR = model_SVR.fit(X_train_scaled, y_train)\n",
    "y_pred = model_SVR.predict(X_test_scaled)\n",
    "acc_SVR = r2_score(y_test, y_pred)\n",
    "r2_score(y_test, y_pred)"
   ]
  },
  {
   "cell_type": "code",
   "execution_count": 40,
   "metadata": {
    "execution": {
     "iopub.execute_input": "2022-08-05T05:43:02.08465Z",
     "iopub.status.busy": "2022-08-05T05:43:02.084263Z",
     "iopub.status.idle": "2022-08-05T05:43:02.095512Z",
     "shell.execute_reply": "2022-08-05T05:43:02.094555Z",
     "shell.execute_reply.started": "2022-08-05T05:43:02.084617Z"
    }
   },
   "outputs": [
    {
     "data": {
      "text/plain": [
       "0.792672814175351"
      ]
     },
     "execution_count": 40,
     "metadata": {},
     "output_type": "execute_result"
    }
   ],
   "source": [
    "# Create DecisionTreeRegressor Model:\n",
    "model_DT = DecisionTreeRegressor(max_depth = 9, max_features = 'auto', max_leaf_nodes = 30,\n",
    "                                 min_samples_leaf = 2, min_weight_fraction_leaf = 0.01, splitter = 'random')\n",
    "model_DT = model_DT.fit(X_train_scaled, y_train)\n",
    "y_pred = model_DT.predict(X_test_scaled)\n",
    "acc_DT = r2_score(y_test, y_pred)\n",
    "r2_score(y_test, y_pred)"
   ]
  },
  {
   "cell_type": "code",
   "execution_count": 41,
   "metadata": {
    "execution": {
     "iopub.execute_input": "2022-08-05T05:43:05.019347Z",
     "iopub.status.busy": "2022-08-05T05:43:05.018899Z",
     "iopub.status.idle": "2022-08-05T05:43:05.3976Z",
     "shell.execute_reply": "2022-08-05T05:43:05.396534Z",
     "shell.execute_reply.started": "2022-08-05T05:43:05.019313Z"
    }
   },
   "outputs": [
    {
     "data": {
      "text/plain": [
       "0.8228849072551294"
      ]
     },
     "execution_count": 41,
     "metadata": {},
     "output_type": "execute_result"
    }
   ],
   "source": [
    "# Create RandomForestRegressor Model:\n",
    "model_RF = RandomForestRegressor(max_depth = 4, max_features = 'auto', n_estimators = 200)\n",
    "model_RF = model_RF.fit(X_train_scaled, y_train)\n",
    "y_pred = model_RF.predict(X_test_scaled)\n",
    "acc_RF = r2_score(y_test, y_pred)\n",
    "r2_score(y_test, y_pred)"
   ]
  },
  {
   "cell_type": "code",
   "execution_count": 42,
   "metadata": {
    "execution": {
     "iopub.execute_input": "2022-08-05T05:43:08.106754Z",
     "iopub.status.busy": "2022-08-05T05:43:08.106324Z",
     "iopub.status.idle": "2022-08-05T05:43:08.569864Z",
     "shell.execute_reply": "2022-08-05T05:43:08.568728Z",
     "shell.execute_reply.started": "2022-08-05T05:43:08.10672Z"
    }
   },
   "outputs": [
    {
     "data": {
      "text/plain": [
       "0.8347758030052164"
      ]
     },
     "execution_count": 42,
     "metadata": {},
     "output_type": "execute_result"
    }
   ],
   "source": [
    "# Create ExtraTreesRegressor Model:\n",
    "model_ET = ExtraTreesRegressor(max_depth = 7, max_features = 'auto', n_estimators = 100)\n",
    "model_ET = model_ET.fit(X_train_scaled, y_train)\n",
    "y_pred = model_ET.predict(X_test_scaled)\n",
    "acc_ET = r2_score(y_test, y_pred)\n",
    "r2_score(y_test, y_pred)"
   ]
  },
  {
   "cell_type": "code",
   "execution_count": 43,
   "metadata": {
    "execution": {
     "iopub.execute_input": "2022-08-05T05:43:10.752999Z",
     "iopub.status.busy": "2022-08-05T05:43:10.752598Z",
     "iopub.status.idle": "2022-08-05T05:43:10.955889Z",
     "shell.execute_reply": "2022-08-05T05:43:10.954796Z",
     "shell.execute_reply.started": "2022-08-05T05:43:10.752964Z"
    }
   },
   "outputs": [
    {
     "data": {
      "text/plain": [
       "0.833641265123195"
      ]
     },
     "execution_count": 43,
     "metadata": {},
     "output_type": "execute_result"
    }
   ],
   "source": [
    "# Create GradientBoostingRegressor Model:\n",
    "model_GB = GradientBoostingRegressor(learning_rate = 0.04, max_depth = 3, n_estimators = 100, subsample = 0.8)\n",
    "model_GB = model_GB.fit(X_train_scaled, y_train)\n",
    "y_pred = model_GB.predict(X_test_scaled)\n",
    "acc_GB = r2_score(y_test, y_pred)\n",
    "r2_score(y_test, y_pred)"
   ]
  },
  {
   "cell_type": "code",
   "execution_count": 44,
   "metadata": {
    "execution": {
     "iopub.execute_input": "2022-08-05T05:47:32.334746Z",
     "iopub.status.busy": "2022-08-05T05:47:32.334326Z",
     "iopub.status.idle": "2022-08-05T05:47:32.341376Z",
     "shell.execute_reply": "2022-08-05T05:47:32.340344Z",
     "shell.execute_reply.started": "2022-08-05T05:47:32.33471Z"
    }
   },
   "outputs": [],
   "source": [
    "final_result = pd.Series({'Linear Regression':acc_LR,\n",
    "                         'Ridge':acc_Ridge,\n",
    "                         'Lasso':acc_Lasso,\n",
    "                         'SVR':acc_SVR,\n",
    "                         'DecisionTreeRegressor':acc_DT,\n",
    "                         'RandomForestRegressor':acc_RF,\n",
    "                         'ExtraTreesRegressor':acc_ET,\n",
    "                         'GradientBoostingRegressor':acc_GB})"
   ]
  },
  {
   "cell_type": "code",
   "execution_count": 45,
   "metadata": {
    "execution": {
     "iopub.execute_input": "2022-08-05T05:48:02.294076Z",
     "iopub.status.busy": "2022-08-05T05:48:02.293658Z",
     "iopub.status.idle": "2022-08-05T05:48:02.301564Z",
     "shell.execute_reply": "2022-08-05T05:48:02.29999Z",
     "shell.execute_reply.started": "2022-08-05T05:48:02.29404Z"
    }
   },
   "outputs": [],
   "source": [
    "final_result = pd.DataFrame(final_result,columns=['Accuracy']).sort_values(by = 'Accuracy', ascending=False)"
   ]
  },
  {
   "cell_type": "code",
   "execution_count": 46,
   "metadata": {
    "execution": {
     "iopub.execute_input": "2022-08-05T05:48:10.539269Z",
     "iopub.status.busy": "2022-08-05T05:48:10.538877Z",
     "iopub.status.idle": "2022-08-05T05:48:10.54961Z",
     "shell.execute_reply": "2022-08-05T05:48:10.548561Z",
     "shell.execute_reply.started": "2022-08-05T05:48:10.539237Z"
    },
    "scrolled": true
   },
   "outputs": [
    {
     "data": {
      "text/html": [
       "<div>\n",
       "<style scoped>\n",
       "    .dataframe tbody tr th:only-of-type {\n",
       "        vertical-align: middle;\n",
       "    }\n",
       "\n",
       "    .dataframe tbody tr th {\n",
       "        vertical-align: top;\n",
       "    }\n",
       "\n",
       "    .dataframe thead th {\n",
       "        text-align: right;\n",
       "    }\n",
       "</style>\n",
       "<table border=\"1\" class=\"dataframe\">\n",
       "  <thead>\n",
       "    <tr style=\"text-align: right;\">\n",
       "      <th></th>\n",
       "      <th>Accuracy</th>\n",
       "    </tr>\n",
       "  </thead>\n",
       "  <tbody>\n",
       "    <tr>\n",
       "      <th>ExtraTreesRegressor</th>\n",
       "      <td>0.834776</td>\n",
       "    </tr>\n",
       "    <tr>\n",
       "      <th>GradientBoostingRegressor</th>\n",
       "      <td>0.833641</td>\n",
       "    </tr>\n",
       "    <tr>\n",
       "      <th>SVR</th>\n",
       "      <td>0.832113</td>\n",
       "    </tr>\n",
       "    <tr>\n",
       "      <th>RandomForestRegressor</th>\n",
       "      <td>0.822885</td>\n",
       "    </tr>\n",
       "    <tr>\n",
       "      <th>DecisionTreeRegressor</th>\n",
       "      <td>0.792673</td>\n",
       "    </tr>\n",
       "    <tr>\n",
       "      <th>Linear Regression</th>\n",
       "      <td>0.778280</td>\n",
       "    </tr>\n",
       "    <tr>\n",
       "      <th>Ridge</th>\n",
       "      <td>0.778204</td>\n",
       "    </tr>\n",
       "    <tr>\n",
       "      <th>Lasso</th>\n",
       "      <td>0.776986</td>\n",
       "    </tr>\n",
       "  </tbody>\n",
       "</table>\n",
       "</div>"
      ],
      "text/plain": [
       "                           Accuracy\n",
       "ExtraTreesRegressor        0.834776\n",
       "GradientBoostingRegressor  0.833641\n",
       "SVR                        0.832113\n",
       "RandomForestRegressor      0.822885\n",
       "DecisionTreeRegressor      0.792673\n",
       "Linear Regression          0.778280\n",
       "Ridge                      0.778204\n",
       "Lasso                      0.776986"
      ]
     },
     "execution_count": 46,
     "metadata": {},
     "output_type": "execute_result"
    }
   ],
   "source": [
    "final_result"
   ]
  },
  {
   "cell_type": "markdown",
   "metadata": {},
   "source": [
    "**AS We can see ExtraTreesRegressor has the best performance in comparison with other algorithms.**"
   ]
  }
 ],
 "metadata": {
  "kernelspec": {
   "display_name": "Python 3 (ipykernel)",
   "language": "python",
   "name": "python3"
  },
  "language_info": {
   "codemirror_mode": {
    "name": "ipython",
    "version": 3
   },
   "file_extension": ".py",
   "mimetype": "text/x-python",
   "name": "python",
   "nbconvert_exporter": "python",
   "pygments_lexer": "ipython3",
   "version": "3.9.12"
  }
 },
 "nbformat": 4,
 "nbformat_minor": 4
}
